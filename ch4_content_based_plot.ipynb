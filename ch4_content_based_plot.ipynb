{
 "cells": [
  {
   "cell_type": "markdown",
   "metadata": {},
   "source": [
    "# Content-based Recommender System"
   ]
  },
  {
   "cell_type": "markdown",
   "metadata": {},
   "source": [
    "### based on similarity of movie plots"
   ]
  },
  {
   "cell_type": "code",
   "execution_count": 1,
   "metadata": {},
   "outputs": [],
   "source": [
    "import pandas as pd\n",
    "import numpy as np\n",
    "from sklearn.feature_extraction.text import TfidfVectorizer\n",
    "from sklearn.metrics.pairwise import linear_kernel # for dot product"
   ]
  },
  {
   "cell_type": "code",
   "execution_count": 2,
   "metadata": {
    "scrolled": true
   },
   "outputs": [],
   "source": [
    "pd.set_option('display.max_columns', 25)\n",
    "df = pd.read_csv('movies_metadata.csv', dtype={'overview':str, 'popularity': str})\n",
    "movies = df[['title','genres', 'release_date', 'runtime', 'vote_average', 'vote_count', 'overview']]"
   ]
  },
  {
   "cell_type": "code",
   "execution_count": 3,
   "metadata": {
    "scrolled": false
   },
   "outputs": [
    {
     "data": {
      "text/html": [
       "<div>\n",
       "<style scoped>\n",
       "    .dataframe tbody tr th:only-of-type {\n",
       "        vertical-align: middle;\n",
       "    }\n",
       "\n",
       "    .dataframe tbody tr th {\n",
       "        vertical-align: top;\n",
       "    }\n",
       "\n",
       "    .dataframe thead th {\n",
       "        text-align: right;\n",
       "    }\n",
       "</style>\n",
       "<table border=\"1\" class=\"dataframe\">\n",
       "  <thead>\n",
       "    <tr style=\"text-align: right;\">\n",
       "      <th></th>\n",
       "      <th>title</th>\n",
       "      <th>genres</th>\n",
       "      <th>release_date</th>\n",
       "      <th>runtime</th>\n",
       "      <th>vote_average</th>\n",
       "      <th>vote_count</th>\n",
       "      <th>overview</th>\n",
       "    </tr>\n",
       "  </thead>\n",
       "  <tbody>\n",
       "    <tr>\n",
       "      <th>0</th>\n",
       "      <td>Toy Story</td>\n",
       "      <td>[{'id': 16, 'name': 'Animation'}, {'id': 35, '...</td>\n",
       "      <td>1995-10-30</td>\n",
       "      <td>81.0</td>\n",
       "      <td>7.7</td>\n",
       "      <td>5415.0</td>\n",
       "      <td>Led by Woody, Andy's toys live happily in his ...</td>\n",
       "    </tr>\n",
       "    <tr>\n",
       "      <th>1</th>\n",
       "      <td>Jumanji</td>\n",
       "      <td>[{'id': 12, 'name': 'Adventure'}, {'id': 14, '...</td>\n",
       "      <td>1995-12-15</td>\n",
       "      <td>104.0</td>\n",
       "      <td>6.9</td>\n",
       "      <td>2413.0</td>\n",
       "      <td>When siblings Judy and Peter discover an encha...</td>\n",
       "    </tr>\n",
       "    <tr>\n",
       "      <th>2</th>\n",
       "      <td>Grumpier Old Men</td>\n",
       "      <td>[{'id': 10749, 'name': 'Romance'}, {'id': 35, ...</td>\n",
       "      <td>1995-12-22</td>\n",
       "      <td>101.0</td>\n",
       "      <td>6.5</td>\n",
       "      <td>92.0</td>\n",
       "      <td>A family wedding reignites the ancient feud be...</td>\n",
       "    </tr>\n",
       "    <tr>\n",
       "      <th>3</th>\n",
       "      <td>Waiting to Exhale</td>\n",
       "      <td>[{'id': 35, 'name': 'Comedy'}, {'id': 18, 'nam...</td>\n",
       "      <td>1995-12-22</td>\n",
       "      <td>127.0</td>\n",
       "      <td>6.1</td>\n",
       "      <td>34.0</td>\n",
       "      <td>Cheated on, mistreated and stepped on, the wom...</td>\n",
       "    </tr>\n",
       "    <tr>\n",
       "      <th>4</th>\n",
       "      <td>Father of the Bride Part II</td>\n",
       "      <td>[{'id': 35, 'name': 'Comedy'}]</td>\n",
       "      <td>1995-02-10</td>\n",
       "      <td>106.0</td>\n",
       "      <td>5.7</td>\n",
       "      <td>173.0</td>\n",
       "      <td>Just when George Banks has recovered from his ...</td>\n",
       "    </tr>\n",
       "  </tbody>\n",
       "</table>\n",
       "</div>"
      ],
      "text/plain": [
       "                         title  \\\n",
       "0                    Toy Story   \n",
       "1                      Jumanji   \n",
       "2             Grumpier Old Men   \n",
       "3            Waiting to Exhale   \n",
       "4  Father of the Bride Part II   \n",
       "\n",
       "                                              genres release_date  runtime  \\\n",
       "0  [{'id': 16, 'name': 'Animation'}, {'id': 35, '...   1995-10-30     81.0   \n",
       "1  [{'id': 12, 'name': 'Adventure'}, {'id': 14, '...   1995-12-15    104.0   \n",
       "2  [{'id': 10749, 'name': 'Romance'}, {'id': 35, ...   1995-12-22    101.0   \n",
       "3  [{'id': 35, 'name': 'Comedy'}, {'id': 18, 'nam...   1995-12-22    127.0   \n",
       "4                     [{'id': 35, 'name': 'Comedy'}]   1995-02-10    106.0   \n",
       "\n",
       "   vote_average  vote_count                                           overview  \n",
       "0           7.7      5415.0  Led by Woody, Andy's toys live happily in his ...  \n",
       "1           6.9      2413.0  When siblings Judy and Peter discover an encha...  \n",
       "2           6.5        92.0  A family wedding reignites the ancient feud be...  \n",
       "3           6.1        34.0  Cheated on, mistreated and stepped on, the wom...  \n",
       "4           5.7       173.0  Just when George Banks has recovered from his ...  "
      ]
     },
     "execution_count": 3,
     "metadata": {},
     "output_type": "execute_result"
    }
   ],
   "source": [
    "movies.head()"
   ]
  },
  {
   "cell_type": "code",
   "execution_count": 4,
   "metadata": {},
   "outputs": [],
   "source": [
    "# randomly sampling to overcome memory issues later on\n",
    "movies = movies.sample(frac=0.7, random_state=123).reset_index()"
   ]
  },
  {
   "cell_type": "markdown",
   "metadata": {},
   "source": [
    "### Cleaning (as before)"
   ]
  },
  {
   "cell_type": "code",
   "execution_count": 5,
   "metadata": {},
   "outputs": [],
   "source": [
    "# convert release date to pandas datetime format\n",
    "movies['release_date'] = pd.to_datetime(movies['release_date'], errors='coerce')\n",
    "\n",
    "# extract year from datetime\n",
    "movies['year'] = movies['release_date'].apply(lambda x: str(x).split('-')[0] if x != np.nan else np.nan)\n",
    "\n",
    "# function to convert 'year' into integers and NaT to 0\n",
    "def convert_int(x):\n",
    "    try:\n",
    "        return int(x)\n",
    "    except:\n",
    "        return 0\n",
    "    \n",
    "# Apply function to year\n",
    "movies['year'] = movies['year'].apply(convert_int)\n",
    "movies = movies.drop('release_date', axis=1)"
   ]
  },
  {
   "cell_type": "code",
   "execution_count": 6,
   "metadata": {
    "scrolled": false
   },
   "outputs": [
    {
     "data": {
      "text/html": [
       "<div>\n",
       "<style scoped>\n",
       "    .dataframe tbody tr th:only-of-type {\n",
       "        vertical-align: middle;\n",
       "    }\n",
       "\n",
       "    .dataframe tbody tr th {\n",
       "        vertical-align: top;\n",
       "    }\n",
       "\n",
       "    .dataframe thead th {\n",
       "        text-align: right;\n",
       "    }\n",
       "</style>\n",
       "<table border=\"1\" class=\"dataframe\">\n",
       "  <thead>\n",
       "    <tr style=\"text-align: right;\">\n",
       "      <th></th>\n",
       "      <th>index</th>\n",
       "      <th>title</th>\n",
       "      <th>genres</th>\n",
       "      <th>runtime</th>\n",
       "      <th>vote_average</th>\n",
       "      <th>vote_count</th>\n",
       "      <th>overview</th>\n",
       "      <th>year</th>\n",
       "    </tr>\n",
       "  </thead>\n",
       "  <tbody>\n",
       "    <tr>\n",
       "      <th>0</th>\n",
       "      <td>25149</td>\n",
       "      <td>Elvis Has Left the Building</td>\n",
       "      <td>[{'id': 35, 'name': 'Comedy'}]</td>\n",
       "      <td>90.0</td>\n",
       "      <td>5.8</td>\n",
       "      <td>11.0</td>\n",
       "      <td>Harmony had an encounter early in life with th...</td>\n",
       "      <td>2004</td>\n",
       "    </tr>\n",
       "    <tr>\n",
       "      <th>1</th>\n",
       "      <td>12025</td>\n",
       "      <td>Face to Face</td>\n",
       "      <td>[{'id': 37, 'name': 'Western'}]</td>\n",
       "      <td>112.0</td>\n",
       "      <td>7.1</td>\n",
       "      <td>12.0</td>\n",
       "      <td>History Professor Brad Fletcher heads west for...</td>\n",
       "      <td>1967</td>\n",
       "    </tr>\n",
       "    <tr>\n",
       "      <th>2</th>\n",
       "      <td>22462</td>\n",
       "      <td>Modern Boy</td>\n",
       "      <td>[{'id': 18, 'name': 'Drama'}]</td>\n",
       "      <td>121.0</td>\n",
       "      <td>0.0</td>\n",
       "      <td>0.0</td>\n",
       "      <td>LEE Hae-myung is proud to be the most modern b...</td>\n",
       "      <td>2008</td>\n",
       "    </tr>\n",
       "    <tr>\n",
       "      <th>3</th>\n",
       "      <td>26045</td>\n",
       "      <td>The Tattooist</td>\n",
       "      <td>[{'id': 53, 'name': 'Thriller'}, {'id': 27, 'n...</td>\n",
       "      <td>92.0</td>\n",
       "      <td>5.1</td>\n",
       "      <td>20.0</td>\n",
       "      <td>American tattoo artist Jake Sawyer wanders the...</td>\n",
       "      <td>2007</td>\n",
       "    </tr>\n",
       "    <tr>\n",
       "      <th>4</th>\n",
       "      <td>13467</td>\n",
       "      <td>Marius</td>\n",
       "      <td>[{'id': 35, 'name': 'Comedy'}, {'id': 18, 'nam...</td>\n",
       "      <td>130.0</td>\n",
       "      <td>6.6</td>\n",
       "      <td>9.0</td>\n",
       "      <td>César runs a bar along Marseilles' port, assis...</td>\n",
       "      <td>1931</td>\n",
       "    </tr>\n",
       "  </tbody>\n",
       "</table>\n",
       "</div>"
      ],
      "text/plain": [
       "   index                        title  \\\n",
       "0  25149  Elvis Has Left the Building   \n",
       "1  12025                 Face to Face   \n",
       "2  22462                   Modern Boy   \n",
       "3  26045                The Tattooist   \n",
       "4  13467                       Marius   \n",
       "\n",
       "                                              genres  runtime  vote_average  \\\n",
       "0                     [{'id': 35, 'name': 'Comedy'}]     90.0           5.8   \n",
       "1                    [{'id': 37, 'name': 'Western'}]    112.0           7.1   \n",
       "2                      [{'id': 18, 'name': 'Drama'}]    121.0           0.0   \n",
       "3  [{'id': 53, 'name': 'Thriller'}, {'id': 27, 'n...     92.0           5.1   \n",
       "4  [{'id': 35, 'name': 'Comedy'}, {'id': 18, 'nam...    130.0           6.6   \n",
       "\n",
       "   vote_count                                           overview  year  \n",
       "0        11.0  Harmony had an encounter early in life with th...  2004  \n",
       "1        12.0  History Professor Brad Fletcher heads west for...  1967  \n",
       "2         0.0  LEE Hae-myung is proud to be the most modern b...  2008  \n",
       "3        20.0  American tattoo artist Jake Sawyer wanders the...  2007  \n",
       "4         9.0  César runs a bar along Marseilles' port, assis...  1931  "
      ]
     },
     "execution_count": 6,
     "metadata": {},
     "output_type": "execute_result"
    }
   ],
   "source": [
    "movies.head()"
   ]
  },
  {
   "cell_type": "code",
   "execution_count": 7,
   "metadata": {},
   "outputs": [],
   "source": [
    "# convert stringed json to list (basically remove quotes)\n",
    "from ast import literal_eval\n",
    "movies['genres'] = movies['genres'].fillna('[]')\n",
    "movies['genres'] = movies['genres'].apply(literal_eval)\n",
    "movies['genres'] = movies['genres'].apply(lambda x: [i['name'] for i in x] if isinstance(x, list) else [])"
   ]
  },
  {
   "cell_type": "code",
   "execution_count": 8,
   "metadata": {
    "scrolled": true
   },
   "outputs": [
    {
     "data": {
      "text/html": [
       "<div>\n",
       "<style scoped>\n",
       "    .dataframe tbody tr th:only-of-type {\n",
       "        vertical-align: middle;\n",
       "    }\n",
       "\n",
       "    .dataframe tbody tr th {\n",
       "        vertical-align: top;\n",
       "    }\n",
       "\n",
       "    .dataframe thead th {\n",
       "        text-align: right;\n",
       "    }\n",
       "</style>\n",
       "<table border=\"1\" class=\"dataframe\">\n",
       "  <thead>\n",
       "    <tr style=\"text-align: right;\">\n",
       "      <th></th>\n",
       "      <th>index</th>\n",
       "      <th>title</th>\n",
       "      <th>genres</th>\n",
       "      <th>runtime</th>\n",
       "      <th>vote_average</th>\n",
       "      <th>vote_count</th>\n",
       "      <th>overview</th>\n",
       "      <th>year</th>\n",
       "    </tr>\n",
       "  </thead>\n",
       "  <tbody>\n",
       "    <tr>\n",
       "      <th>0</th>\n",
       "      <td>25149</td>\n",
       "      <td>Elvis Has Left the Building</td>\n",
       "      <td>[Comedy]</td>\n",
       "      <td>90.0</td>\n",
       "      <td>5.8</td>\n",
       "      <td>11.0</td>\n",
       "      <td>Harmony had an encounter early in life with th...</td>\n",
       "      <td>2004</td>\n",
       "    </tr>\n",
       "    <tr>\n",
       "      <th>1</th>\n",
       "      <td>12025</td>\n",
       "      <td>Face to Face</td>\n",
       "      <td>[Western]</td>\n",
       "      <td>112.0</td>\n",
       "      <td>7.1</td>\n",
       "      <td>12.0</td>\n",
       "      <td>History Professor Brad Fletcher heads west for...</td>\n",
       "      <td>1967</td>\n",
       "    </tr>\n",
       "    <tr>\n",
       "      <th>2</th>\n",
       "      <td>22462</td>\n",
       "      <td>Modern Boy</td>\n",
       "      <td>[Drama]</td>\n",
       "      <td>121.0</td>\n",
       "      <td>0.0</td>\n",
       "      <td>0.0</td>\n",
       "      <td>LEE Hae-myung is proud to be the most modern b...</td>\n",
       "      <td>2008</td>\n",
       "    </tr>\n",
       "    <tr>\n",
       "      <th>3</th>\n",
       "      <td>26045</td>\n",
       "      <td>The Tattooist</td>\n",
       "      <td>[Thriller, Horror]</td>\n",
       "      <td>92.0</td>\n",
       "      <td>5.1</td>\n",
       "      <td>20.0</td>\n",
       "      <td>American tattoo artist Jake Sawyer wanders the...</td>\n",
       "      <td>2007</td>\n",
       "    </tr>\n",
       "    <tr>\n",
       "      <th>4</th>\n",
       "      <td>13467</td>\n",
       "      <td>Marius</td>\n",
       "      <td>[Comedy, Drama]</td>\n",
       "      <td>130.0</td>\n",
       "      <td>6.6</td>\n",
       "      <td>9.0</td>\n",
       "      <td>César runs a bar along Marseilles' port, assis...</td>\n",
       "      <td>1931</td>\n",
       "    </tr>\n",
       "  </tbody>\n",
       "</table>\n",
       "</div>"
      ],
      "text/plain": [
       "   index                        title              genres  runtime  \\\n",
       "0  25149  Elvis Has Left the Building            [Comedy]     90.0   \n",
       "1  12025                 Face to Face           [Western]    112.0   \n",
       "2  22462                   Modern Boy             [Drama]    121.0   \n",
       "3  26045                The Tattooist  [Thriller, Horror]     92.0   \n",
       "4  13467                       Marius     [Comedy, Drama]    130.0   \n",
       "\n",
       "   vote_average  vote_count  \\\n",
       "0           5.8        11.0   \n",
       "1           7.1        12.0   \n",
       "2           0.0         0.0   \n",
       "3           5.1        20.0   \n",
       "4           6.6         9.0   \n",
       "\n",
       "                                            overview  year  \n",
       "0  Harmony had an encounter early in life with th...  2004  \n",
       "1  History Professor Brad Fletcher heads west for...  1967  \n",
       "2  LEE Hae-myung is proud to be the most modern b...  2008  \n",
       "3  American tattoo artist Jake Sawyer wanders the...  2007  \n",
       "4  César runs a bar along Marseilles' port, assis...  1931  "
      ]
     },
     "execution_count": 8,
     "metadata": {},
     "output_type": "execute_result"
    }
   ],
   "source": [
    "movies.head()"
   ]
  },
  {
   "cell_type": "markdown",
   "metadata": {},
   "source": [
    "### Vectorizing"
   ]
  },
  {
   "cell_type": "code",
   "execution_count": 9,
   "metadata": {},
   "outputs": [
    {
     "data": {
      "text/plain": [
       "(31826, 63574)"
      ]
     },
     "execution_count": 9,
     "metadata": {},
     "output_type": "execute_result"
    }
   ],
   "source": [
    "#Define a TF-IDF Vectorizer Object. Remove all english stopwords\n",
    "tfidf = TfidfVectorizer(stop_words='english', lowercase=True)\n",
    "\n",
    "#Replace NaN with an empty string\n",
    "movies['overview'] = movies['overview'].fillna('')\n",
    "\n",
    "#Construct the required TF-IDF matrix\n",
    "tfidf_matrix = tfidf.fit_transform(movies['overview'])\n",
    "\n",
    "#Output the shape of tfidf_matrix\n",
    "tfidf_matrix.shape"
   ]
  },
  {
   "cell_type": "code",
   "execution_count": 10,
   "metadata": {},
   "outputs": [],
   "source": [
    "# Compute the cosine similarity matrix\n",
    "# liner kernel (X,Y) = (X Transpose) * Y\n",
    "cosine_sim = linear_kernel(tfidf_matrix, tfidf_matrix)"
   ]
  },
  {
   "cell_type": "markdown",
   "metadata": {},
   "source": [
    "### Building recommender"
   ]
  },
  {
   "cell_type": "code",
   "execution_count": 11,
   "metadata": {},
   "outputs": [],
   "source": [
    "# reverse mapping of movie title with index for easy retrieval\n",
    "indices = pd.Series(movies.index, index=movies['title']).drop_duplicates()"
   ]
  },
  {
   "cell_type": "code",
   "execution_count": 12,
   "metadata": {},
   "outputs": [],
   "source": [
    "# The function\n",
    "def movie_recommender(title, cosine_sim=cosine_sim, movies=movies, indices=indices):\n",
    "    # get the index of the title\n",
    "    ind = indices[title]\n",
    "    \n",
    "    # pairwise scores with all movies\n",
    "    sim_scores = list(enumerate(cosine_sim[ind]))\n",
    "    #print(sim_scores)\n",
    "    \n",
    "    # sort the similarities in descending order\n",
    "    sim_scores = sorted(sim_scores, key=lambda tup: tup[1], reverse=True)\n",
    "    \n",
    "    # Pick the first 10 similar movies\n",
    "    sim_scores = sim_scores[1:11]\n",
    "    \n",
    "    # get the movie indices\n",
    "    similar_movies_ind = [x[0] for x in sim_scores]\n",
    "    \n",
    "    # return the movie titles\n",
    "    return movies['title'].iloc[similar_movies_ind]"
   ]
  },
  {
   "cell_type": "code",
   "execution_count": 13,
   "metadata": {
    "scrolled": false
   },
   "outputs": [
    {
     "data": {
      "text/plain": [
       "23109                Kalifornia\n",
       "4872                   The Cell\n",
       "23436     While the City Sleeps\n",
       "9404              Mad Detective\n",
       "22635        Traffic Department\n",
       "23435                The Cell 2\n",
       "17771    The Poughkeepsie Tapes\n",
       "6125                   Ricochet\n",
       "17421          Seven and a Half\n",
       "7383         The Bone Collector\n",
       "Name: title, dtype: object"
      ]
     },
     "execution_count": 13,
     "metadata": {},
     "output_type": "execute_result"
    }
   ],
   "source": [
    "movie_recommender('Se7en')"
   ]
  },
  {
   "cell_type": "code",
   "execution_count": 14,
   "metadata": {},
   "outputs": [
    {
     "data": {
      "text/plain": [
       "7102                                Perfect Strangers\n",
       "29688                                           Gonin\n",
       "15736                                  The Wrong Girl\n",
       "29353    Before The Dinosaurs - Walking With Monsters\n",
       "20888                                   The 3rd Voice\n",
       "16288                           Dysfunctional Friends\n",
       "23106                                   The Discovery\n",
       "17542                                           Wacko\n",
       "30378                  We're Back! A Dinosaur's Story\n",
       "28117                                Scattered Clouds\n",
       "Name: title, dtype: object"
      ]
     },
     "execution_count": 14,
     "metadata": {},
     "output_type": "execute_result"
    }
   ],
   "source": [
    "movie_recommender('Jurassic Park III')"
   ]
  },
  {
   "cell_type": "code",
   "execution_count": 15,
   "metadata": {},
   "outputs": [
    {
     "data": {
      "text/plain": [
       "8321     Iron Man & Captain America: Heroes United\n",
       "22011                                    Team Thor\n",
       "31035          Captain America: The Winter Soldier\n",
       "2724                                    Ironmaster\n",
       "13575                      Avengers: Age of Ultron\n",
       "30852          Marvel: 75 Years, From Pulp to Pop!\n",
       "8715                             Buckskin Frontier\n",
       "17351                          P-51 Dragon Fighter\n",
       "7514                                         U-571\n",
       "29920                              The Borderlands\n",
       "Name: title, dtype: object"
      ]
     },
     "execution_count": 15,
     "metadata": {},
     "output_type": "execute_result"
    }
   ],
   "source": [
    "movie_recommender('Captain America: Civil War')"
   ]
  },
  {
   "cell_type": "code",
   "execution_count": null,
   "metadata": {},
   "outputs": [],
   "source": []
  }
 ],
 "metadata": {
  "kernelspec": {
   "display_name": "Python 3",
   "language": "python",
   "name": "python3"
  },
  "language_info": {
   "codemirror_mode": {
    "name": "ipython",
    "version": 3
   },
   "file_extension": ".py",
   "mimetype": "text/x-python",
   "name": "python",
   "nbconvert_exporter": "python",
   "pygments_lexer": "ipython3",
   "version": "3.7.0"
  }
 },
 "nbformat": 4,
 "nbformat_minor": 2
}
